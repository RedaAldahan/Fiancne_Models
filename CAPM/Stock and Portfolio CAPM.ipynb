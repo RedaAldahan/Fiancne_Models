{
 "cells": [
  {
   "cell_type": "code",
   "execution_count": 1,
   "id": "a7cb9f75",
   "metadata": {},
   "outputs": [],
   "source": [
    "# Import Libraries and packages\n",
    "import yfinance as yf\n",
    "import pandas as pd\n",
    "import numpy as np"
   ]
  },
  {
   "cell_type": "code",
   "execution_count": 2,
   "id": "2157ff5f",
   "metadata": {},
   "outputs": [
    {
     "data": {
      "text/html": [
       "<div>\n",
       "<style scoped>\n",
       "    .dataframe tbody tr th:only-of-type {\n",
       "        vertical-align: middle;\n",
       "    }\n",
       "\n",
       "    .dataframe tbody tr th {\n",
       "        vertical-align: top;\n",
       "    }\n",
       "\n",
       "    .dataframe thead th {\n",
       "        text-align: right;\n",
       "    }\n",
       "</style>\n",
       "<table border=\"1\" class=\"dataframe\">\n",
       "  <thead>\n",
       "    <tr style=\"text-align: right;\">\n",
       "      <th></th>\n",
       "      <th>Stock</th>\n",
       "      <th>Purchase_Cost</th>\n",
       "    </tr>\n",
       "  </thead>\n",
       "  <tbody>\n",
       "    <tr>\n",
       "      <th>0</th>\n",
       "      <td>AMZN</td>\n",
       "      <td>3000</td>\n",
       "    </tr>\n",
       "    <tr>\n",
       "      <th>1</th>\n",
       "      <td>MSFT</td>\n",
       "      <td>1000</td>\n",
       "    </tr>\n",
       "    <tr>\n",
       "      <th>2</th>\n",
       "      <td>Ford</td>\n",
       "      <td>300</td>\n",
       "    </tr>\n",
       "    <tr>\n",
       "      <th>3</th>\n",
       "      <td>LNG</td>\n",
       "      <td>4000</td>\n",
       "    </tr>\n",
       "    <tr>\n",
       "      <th>4</th>\n",
       "      <td>GOLD</td>\n",
       "      <td>2000</td>\n",
       "    </tr>\n",
       "    <tr>\n",
       "      <th>5</th>\n",
       "      <td>NYC</td>\n",
       "      <td>5000</td>\n",
       "    </tr>\n",
       "  </tbody>\n",
       "</table>\n",
       "</div>"
      ],
      "text/plain": [
       "  Stock  Purchase_Cost\n",
       "0  AMZN           3000\n",
       "1  MSFT           1000\n",
       "2  Ford            300\n",
       "3   LNG           4000\n",
       "4  GOLD           2000\n",
       "5   NYC           5000"
      ]
     },
     "execution_count": 2,
     "metadata": {},
     "output_type": "execute_result"
    }
   ],
   "source": [
    "# Import stock portfolio from excel\n",
    "df = pd.read_excel(\"Stock_Portfolio.xlsx\")\n",
    "df"
   ]
  },
  {
   "cell_type": "code",
   "execution_count": 3,
   "id": "bff7992f",
   "metadata": {},
   "outputs": [
    {
     "data": {
      "text/html": [
       "<div>\n",
       "<style scoped>\n",
       "    .dataframe tbody tr th:only-of-type {\n",
       "        vertical-align: middle;\n",
       "    }\n",
       "\n",
       "    .dataframe tbody tr th {\n",
       "        vertical-align: top;\n",
       "    }\n",
       "\n",
       "    .dataframe thead th {\n",
       "        text-align: right;\n",
       "    }\n",
       "</style>\n",
       "<table border=\"1\" class=\"dataframe\">\n",
       "  <thead>\n",
       "    <tr style=\"text-align: right;\">\n",
       "      <th></th>\n",
       "      <th>Stock</th>\n",
       "      <th>Purchase_Cost</th>\n",
       "      <th>stock_weight</th>\n",
       "    </tr>\n",
       "  </thead>\n",
       "  <tbody>\n",
       "    <tr>\n",
       "      <th>0</th>\n",
       "      <td>AMZN</td>\n",
       "      <td>3000</td>\n",
       "      <td>19.61</td>\n",
       "    </tr>\n",
       "    <tr>\n",
       "      <th>1</th>\n",
       "      <td>MSFT</td>\n",
       "      <td>1000</td>\n",
       "      <td>6.54</td>\n",
       "    </tr>\n",
       "    <tr>\n",
       "      <th>2</th>\n",
       "      <td>Ford</td>\n",
       "      <td>300</td>\n",
       "      <td>1.96</td>\n",
       "    </tr>\n",
       "    <tr>\n",
       "      <th>3</th>\n",
       "      <td>LNG</td>\n",
       "      <td>4000</td>\n",
       "      <td>26.14</td>\n",
       "    </tr>\n",
       "    <tr>\n",
       "      <th>4</th>\n",
       "      <td>GOLD</td>\n",
       "      <td>2000</td>\n",
       "      <td>13.07</td>\n",
       "    </tr>\n",
       "    <tr>\n",
       "      <th>5</th>\n",
       "      <td>NYC</td>\n",
       "      <td>5000</td>\n",
       "      <td>32.68</td>\n",
       "    </tr>\n",
       "  </tbody>\n",
       "</table>\n",
       "</div>"
      ],
      "text/plain": [
       "  Stock  Purchase_Cost  stock_weight\n",
       "0  AMZN           3000         19.61\n",
       "1  MSFT           1000          6.54\n",
       "2  Ford            300          1.96\n",
       "3   LNG           4000         26.14\n",
       "4  GOLD           2000         13.07\n",
       "5   NYC           5000         32.68"
      ]
     },
     "execution_count": 3,
     "metadata": {},
     "output_type": "execute_result"
    }
   ],
   "source": [
    "# Calculate stock weight\n",
    "df[\"stock_weight\"]= round((df['Purchase_Cost']/df[\"Purchase_Cost\"].sum())*100,2)\n",
    "df"
   ]
  },
  {
   "cell_type": "code",
   "execution_count": 4,
   "id": "9535b6d9",
   "metadata": {},
   "outputs": [
    {
     "data": {
      "text/html": [
       "<div>\n",
       "<style scoped>\n",
       "    .dataframe tbody tr th:only-of-type {\n",
       "        vertical-align: middle;\n",
       "    }\n",
       "\n",
       "    .dataframe tbody tr th {\n",
       "        vertical-align: top;\n",
       "    }\n",
       "\n",
       "    .dataframe thead th {\n",
       "        text-align: right;\n",
       "    }\n",
       "</style>\n",
       "<table border=\"1\" class=\"dataframe\">\n",
       "  <thead>\n",
       "    <tr style=\"text-align: right;\">\n",
       "      <th></th>\n",
       "      <th>Stock</th>\n",
       "      <th>Purchase_Cost</th>\n",
       "      <th>stock_weight</th>\n",
       "      <th>Beta</th>\n",
       "    </tr>\n",
       "  </thead>\n",
       "  <tbody>\n",
       "    <tr>\n",
       "      <th>0</th>\n",
       "      <td>AMZN</td>\n",
       "      <td>3000</td>\n",
       "      <td>19.61</td>\n",
       "      <td>1.33</td>\n",
       "    </tr>\n",
       "    <tr>\n",
       "      <th>1</th>\n",
       "      <td>MSFT</td>\n",
       "      <td>1000</td>\n",
       "      <td>6.54</td>\n",
       "      <td>0.94</td>\n",
       "    </tr>\n",
       "    <tr>\n",
       "      <th>2</th>\n",
       "      <td>Ford</td>\n",
       "      <td>300</td>\n",
       "      <td>1.96</td>\n",
       "      <td>0.81</td>\n",
       "    </tr>\n",
       "    <tr>\n",
       "      <th>3</th>\n",
       "      <td>LNG</td>\n",
       "      <td>4000</td>\n",
       "      <td>26.14</td>\n",
       "      <td>1.12</td>\n",
       "    </tr>\n",
       "    <tr>\n",
       "      <th>4</th>\n",
       "      <td>GOLD</td>\n",
       "      <td>2000</td>\n",
       "      <td>13.07</td>\n",
       "      <td>0.13</td>\n",
       "    </tr>\n",
       "    <tr>\n",
       "      <th>5</th>\n",
       "      <td>NYC</td>\n",
       "      <td>5000</td>\n",
       "      <td>32.68</td>\n",
       "      <td>0.52</td>\n",
       "    </tr>\n",
       "  </tbody>\n",
       "</table>\n",
       "</div>"
      ],
      "text/plain": [
       "  Stock  Purchase_Cost  stock_weight  Beta\n",
       "0  AMZN           3000         19.61  1.33\n",
       "1  MSFT           1000          6.54  0.94\n",
       "2  Ford            300          1.96  0.81\n",
       "3   LNG           4000         26.14  1.12\n",
       "4  GOLD           2000         13.07  0.13\n",
       "5   NYC           5000         32.68  0.52"
      ]
     },
     "execution_count": 4,
     "metadata": {},
     "output_type": "execute_result"
    }
   ],
   "source": [
    "# Calculate beta for each individual stock\n",
    "for i in range(len(df)):\n",
    "    x = df.loc[i, \"Stock\"]\n",
    "    ticker = yf.Ticker(x)\n",
    "    stock_beta = ticker.info[\"beta\"]\n",
    "    df.at[i, \"Beta\"]= round(stock_beta,2)\n",
    "df"
   ]
  },
  {
   "cell_type": "code",
   "execution_count": 5,
   "id": "5b098dc0",
   "metadata": {},
   "outputs": [
    {
     "data": {
      "text/plain": [
       "0.04"
      ]
     },
     "execution_count": 5,
     "metadata": {},
     "output_type": "execute_result"
    }
   ],
   "source": [
    "# find the risk free rate (10 year treasury bill)\n",
    "treasury_yield10 = yf.Ticker(\"^TNX\") \n",
    "risk_free_rate_prem = round(treasury_yield10.info['regularMarketPrice']/100,2)\n",
    "risk_free_rate_prem"
   ]
  },
  {
   "cell_type": "code",
   "execution_count": 6,
   "id": "4e76e40b",
   "metadata": {},
   "outputs": [],
   "source": [
    "# assume 10 percent return on the return of market ( average return of the S&P 500)\n",
    "sp500_teturn = 0.10"
   ]
  },
  {
   "cell_type": "markdown",
   "id": "4553223e",
   "metadata": {},
   "source": [
    "Calculate the portfolio expected return"
   ]
  },
  {
   "cell_type": "code",
   "execution_count": 7,
   "id": "1fbafd46",
   "metadata": {},
   "outputs": [
    {
     "data": {
      "text/plain": [
       "0.82"
      ]
     },
     "execution_count": 7,
     "metadata": {},
     "output_type": "execute_result"
    }
   ],
   "source": [
    "    # Caclulate the portfolio beta\n",
    "    portfolio_beta = round(sum(df[\"Beta\"]* df[\"stock_weight\"]/100),2)\n",
    "    portfolio_beta"
   ]
  },
  {
   "cell_type": "code",
   "execution_count": 8,
   "id": "1c88678d",
   "metadata": {},
   "outputs": [
    {
     "data": {
      "text/plain": [
       "0.09"
      ]
     },
     "execution_count": 8,
     "metadata": {},
     "output_type": "execute_result"
    }
   ],
   "source": [
    "# Calculate the expected return of the portfolio\n",
    "portfolio_exp_return = round(risk_free_rate_prem + portfolio_beta *(sp500_teturn - risk_free_rate_prem),2)\n",
    "portfolio_exp_return"
   ]
  },
  {
   "cell_type": "code",
   "execution_count": 9,
   "id": "84822537",
   "metadata": {},
   "outputs": [
    {
     "data": {
      "text/html": [
       "<div>\n",
       "<style scoped>\n",
       "    .dataframe tbody tr th:only-of-type {\n",
       "        vertical-align: middle;\n",
       "    }\n",
       "\n",
       "    .dataframe tbody tr th {\n",
       "        vertical-align: top;\n",
       "    }\n",
       "\n",
       "    .dataframe thead th {\n",
       "        text-align: right;\n",
       "    }\n",
       "</style>\n",
       "<table border=\"1\" class=\"dataframe\">\n",
       "  <thead>\n",
       "    <tr style=\"text-align: right;\">\n",
       "      <th></th>\n",
       "      <th>Stock</th>\n",
       "      <th>Purchase_Cost</th>\n",
       "      <th>stock_weight</th>\n",
       "      <th>Beta</th>\n",
       "      <th>exp_return</th>\n",
       "    </tr>\n",
       "  </thead>\n",
       "  <tbody>\n",
       "    <tr>\n",
       "      <th>0</th>\n",
       "      <td>AMZN</td>\n",
       "      <td>3000</td>\n",
       "      <td>19.61</td>\n",
       "      <td>1.33</td>\n",
       "      <td>0.12</td>\n",
       "    </tr>\n",
       "    <tr>\n",
       "      <th>1</th>\n",
       "      <td>MSFT</td>\n",
       "      <td>1000</td>\n",
       "      <td>6.54</td>\n",
       "      <td>0.94</td>\n",
       "      <td>0.10</td>\n",
       "    </tr>\n",
       "    <tr>\n",
       "      <th>2</th>\n",
       "      <td>Ford</td>\n",
       "      <td>300</td>\n",
       "      <td>1.96</td>\n",
       "      <td>0.81</td>\n",
       "      <td>0.09</td>\n",
       "    </tr>\n",
       "    <tr>\n",
       "      <th>3</th>\n",
       "      <td>LNG</td>\n",
       "      <td>4000</td>\n",
       "      <td>26.14</td>\n",
       "      <td>1.12</td>\n",
       "      <td>0.11</td>\n",
       "    </tr>\n",
       "    <tr>\n",
       "      <th>4</th>\n",
       "      <td>GOLD</td>\n",
       "      <td>2000</td>\n",
       "      <td>13.07</td>\n",
       "      <td>0.13</td>\n",
       "      <td>0.05</td>\n",
       "    </tr>\n",
       "    <tr>\n",
       "      <th>5</th>\n",
       "      <td>NYC</td>\n",
       "      <td>5000</td>\n",
       "      <td>32.68</td>\n",
       "      <td>0.52</td>\n",
       "      <td>0.07</td>\n",
       "    </tr>\n",
       "  </tbody>\n",
       "</table>\n",
       "</div>"
      ],
      "text/plain": [
       "  Stock  Purchase_Cost  stock_weight  Beta  exp_return\n",
       "0  AMZN           3000         19.61  1.33        0.12\n",
       "1  MSFT           1000          6.54  0.94        0.10\n",
       "2  Ford            300          1.96  0.81        0.09\n",
       "3   LNG           4000         26.14  1.12        0.11\n",
       "4  GOLD           2000         13.07  0.13        0.05\n",
       "5   NYC           5000         32.68  0.52        0.07"
      ]
     },
     "execution_count": 9,
     "metadata": {},
     "output_type": "execute_result"
    }
   ],
   "source": [
    "# calulate the expected return for each individual stock using CAPM forumla\n",
    "df[\"exp_return\"]= round(risk_free_rate_prem + df[\"Beta\"]*(sp500_teturn - risk_free_rate_prem),2)\n",
    "df"
   ]
  }
 ],
 "metadata": {
  "kernelspec": {
   "display_name": "Python 3 (ipykernel)",
   "language": "python",
   "name": "python3"
  },
  "language_info": {
   "codemirror_mode": {
    "name": "ipython",
    "version": 3
   },
   "file_extension": ".py",
   "mimetype": "text/x-python",
   "name": "python",
   "nbconvert_exporter": "python",
   "pygments_lexer": "ipython3",
   "version": "3.9.12"
  }
 },
 "nbformat": 4,
 "nbformat_minor": 5
}
