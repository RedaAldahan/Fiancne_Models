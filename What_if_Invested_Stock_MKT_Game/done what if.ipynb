{
 "cells": [
  {
   "cell_type": "code",
   "execution_count": 1,
   "id": "61b62d84",
   "metadata": {},
   "outputs": [],
   "source": [
    "import pandas as pd\n",
    "import yfinance as yf"
   ]
  },
  {
   "cell_type": "code",
   "execution_count": 2,
   "id": "7536c356",
   "metadata": {},
   "outputs": [],
   "source": [
    "# get historical market data\n",
    "stock = yf.Ticker(\"MSFT\")\n",
    "hist = stock.history(period=\"max\")\n"
   ]
  },
  {
   "cell_type": "code",
   "execution_count": 3,
   "id": "c2bc901a",
   "metadata": {},
   "outputs": [
    {
     "data": {
      "text/html": [
       "<div>\n",
       "<style scoped>\n",
       "    .dataframe tbody tr th:only-of-type {\n",
       "        vertical-align: middle;\n",
       "    }\n",
       "\n",
       "    .dataframe tbody tr th {\n",
       "        vertical-align: top;\n",
       "    }\n",
       "\n",
       "    .dataframe thead th {\n",
       "        text-align: right;\n",
       "    }\n",
       "</style>\n",
       "<table border=\"1\" class=\"dataframe\">\n",
       "  <thead>\n",
       "    <tr style=\"text-align: right;\">\n",
       "      <th></th>\n",
       "      <th>Open</th>\n",
       "      <th>High</th>\n",
       "      <th>Low</th>\n",
       "      <th>Close</th>\n",
       "      <th>Volume</th>\n",
       "      <th>Dividends</th>\n",
       "      <th>Stock Splits</th>\n",
       "    </tr>\n",
       "    <tr>\n",
       "      <th>Date</th>\n",
       "      <th></th>\n",
       "      <th></th>\n",
       "      <th></th>\n",
       "      <th></th>\n",
       "      <th></th>\n",
       "      <th></th>\n",
       "      <th></th>\n",
       "    </tr>\n",
       "  </thead>\n",
       "  <tbody>\n",
       "    <tr>\n",
       "      <th>1986-03-13</th>\n",
       "      <td>0.055949</td>\n",
       "      <td>0.064177</td>\n",
       "      <td>0.055949</td>\n",
       "      <td>0.061434</td>\n",
       "      <td>1031788800</td>\n",
       "      <td>0.0</td>\n",
       "      <td>0.0</td>\n",
       "    </tr>\n",
       "    <tr>\n",
       "      <th>1986-03-14</th>\n",
       "      <td>0.061434</td>\n",
       "      <td>0.064725</td>\n",
       "      <td>0.061434</td>\n",
       "      <td>0.063628</td>\n",
       "      <td>308160000</td>\n",
       "      <td>0.0</td>\n",
       "      <td>0.0</td>\n",
       "    </tr>\n",
       "    <tr>\n",
       "      <th>1986-03-17</th>\n",
       "      <td>0.063628</td>\n",
       "      <td>0.065274</td>\n",
       "      <td>0.063628</td>\n",
       "      <td>0.064725</td>\n",
       "      <td>133171200</td>\n",
       "      <td>0.0</td>\n",
       "      <td>0.0</td>\n",
       "    </tr>\n",
       "    <tr>\n",
       "      <th>1986-03-18</th>\n",
       "      <td>0.064725</td>\n",
       "      <td>0.065274</td>\n",
       "      <td>0.062531</td>\n",
       "      <td>0.063079</td>\n",
       "      <td>67766400</td>\n",
       "      <td>0.0</td>\n",
       "      <td>0.0</td>\n",
       "    </tr>\n",
       "    <tr>\n",
       "      <th>1986-03-19</th>\n",
       "      <td>0.063079</td>\n",
       "      <td>0.063628</td>\n",
       "      <td>0.061434</td>\n",
       "      <td>0.061982</td>\n",
       "      <td>47894400</td>\n",
       "      <td>0.0</td>\n",
       "      <td>0.0</td>\n",
       "    </tr>\n",
       "    <tr>\n",
       "      <th>...</th>\n",
       "      <td>...</td>\n",
       "      <td>...</td>\n",
       "      <td>...</td>\n",
       "      <td>...</td>\n",
       "      <td>...</td>\n",
       "      <td>...</td>\n",
       "      <td>...</td>\n",
       "    </tr>\n",
       "    <tr>\n",
       "      <th>2022-03-14</th>\n",
       "      <td>280.339996</td>\n",
       "      <td>285.399994</td>\n",
       "      <td>275.820007</td>\n",
       "      <td>276.440002</td>\n",
       "      <td>30660700</td>\n",
       "      <td>0.0</td>\n",
       "      <td>0.0</td>\n",
       "    </tr>\n",
       "    <tr>\n",
       "      <th>2022-03-15</th>\n",
       "      <td>280.350006</td>\n",
       "      <td>287.820007</td>\n",
       "      <td>278.730011</td>\n",
       "      <td>287.149994</td>\n",
       "      <td>34245100</td>\n",
       "      <td>0.0</td>\n",
       "      <td>0.0</td>\n",
       "    </tr>\n",
       "    <tr>\n",
       "      <th>2022-03-16</th>\n",
       "      <td>289.109985</td>\n",
       "      <td>294.570007</td>\n",
       "      <td>283.200012</td>\n",
       "      <td>294.390015</td>\n",
       "      <td>37826300</td>\n",
       "      <td>0.0</td>\n",
       "      <td>0.0</td>\n",
       "    </tr>\n",
       "    <tr>\n",
       "      <th>2022-03-17</th>\n",
       "      <td>293.290009</td>\n",
       "      <td>295.609985</td>\n",
       "      <td>289.369995</td>\n",
       "      <td>295.220001</td>\n",
       "      <td>30816600</td>\n",
       "      <td>0.0</td>\n",
       "      <td>0.0</td>\n",
       "    </tr>\n",
       "    <tr>\n",
       "      <th>2022-03-18</th>\n",
       "      <td>295.369995</td>\n",
       "      <td>301.000000</td>\n",
       "      <td>292.730011</td>\n",
       "      <td>300.429993</td>\n",
       "      <td>43317000</td>\n",
       "      <td>0.0</td>\n",
       "      <td>0.0</td>\n",
       "    </tr>\n",
       "  </tbody>\n",
       "</table>\n",
       "<p>9079 rows × 7 columns</p>\n",
       "</div>"
      ],
      "text/plain": [
       "                  Open        High         Low       Close      Volume  \\\n",
       "Date                                                                     \n",
       "1986-03-13    0.055949    0.064177    0.055949    0.061434  1031788800   \n",
       "1986-03-14    0.061434    0.064725    0.061434    0.063628   308160000   \n",
       "1986-03-17    0.063628    0.065274    0.063628    0.064725   133171200   \n",
       "1986-03-18    0.064725    0.065274    0.062531    0.063079    67766400   \n",
       "1986-03-19    0.063079    0.063628    0.061434    0.061982    47894400   \n",
       "...                ...         ...         ...         ...         ...   \n",
       "2022-03-14  280.339996  285.399994  275.820007  276.440002    30660700   \n",
       "2022-03-15  280.350006  287.820007  278.730011  287.149994    34245100   \n",
       "2022-03-16  289.109985  294.570007  283.200012  294.390015    37826300   \n",
       "2022-03-17  293.290009  295.609985  289.369995  295.220001    30816600   \n",
       "2022-03-18  295.369995  301.000000  292.730011  300.429993    43317000   \n",
       "\n",
       "            Dividends  Stock Splits  \n",
       "Date                                 \n",
       "1986-03-13        0.0           0.0  \n",
       "1986-03-14        0.0           0.0  \n",
       "1986-03-17        0.0           0.0  \n",
       "1986-03-18        0.0           0.0  \n",
       "1986-03-19        0.0           0.0  \n",
       "...               ...           ...  \n",
       "2022-03-14        0.0           0.0  \n",
       "2022-03-15        0.0           0.0  \n",
       "2022-03-16        0.0           0.0  \n",
       "2022-03-17        0.0           0.0  \n",
       "2022-03-18        0.0           0.0  \n",
       "\n",
       "[9079 rows x 7 columns]"
      ]
     },
     "execution_count": 3,
     "metadata": {},
     "output_type": "execute_result"
    }
   ],
   "source": [
    "hist"
   ]
  },
  {
   "cell_type": "code",
   "execution_count": 5,
   "id": "a3716ebd",
   "metadata": {},
   "outputs": [],
   "source": [
    "# inv_amt = float(input(\"Please enter the amount you wish you invested: \"))\n",
    "inv_amt = 1000"
   ]
  },
  {
   "cell_type": "code",
   "execution_count": 9,
   "id": "48891c95",
   "metadata": {},
   "outputs": [],
   "source": [
    "# Please enter the date  usign this format 'yyyy-mm-dd'\n",
    "inv_date = '2020-03-09'\n",
    "exists = inv_date in hist.index\n",
    "if exists == False:\n",
    "    print(\"Please enter a date that is in the dataframe\")"
   ]
  },
  {
   "cell_type": "code",
   "execution_count": 10,
   "id": "cb2fd78b",
   "metadata": {},
   "outputs": [
    {
     "data": {
      "text/plain": [
       "147.9"
      ]
     },
     "execution_count": 10,
     "metadata": {},
     "output_type": "execute_result"
    }
   ],
   "source": [
    "choosen_price = round(hist.loc[inv_date,:][\"Close\"],2)\n",
    "choosen_price"
   ]
  },
  {
   "cell_type": "code",
   "execution_count": 12,
   "id": "b268323a",
   "metadata": {},
   "outputs": [
    {
     "data": {
      "text/plain": [
       "6.76"
      ]
     },
     "execution_count": 12,
     "metadata": {},
     "output_type": "execute_result"
    }
   ],
   "source": [
    "num_stocks = round(float(inv_amt) / choosen_price,2)\n",
    "num_stocks"
   ]
  },
  {
   "cell_type": "code",
   "execution_count": 13,
   "id": "c00a4a5a",
   "metadata": {},
   "outputs": [
    {
     "data": {
      "text/plain": [
       "300.43"
      ]
     },
     "execution_count": 13,
     "metadata": {},
     "output_type": "execute_result"
    }
   ],
   "source": [
    "curr_price = round(hist[\"Close\"].iloc[-1],2)\n",
    "curr_price"
   ]
  },
  {
   "cell_type": "code",
   "execution_count": 25,
   "id": "ae0b6627",
   "metadata": {},
   "outputs": [
    {
     "name": "stdout",
     "output_type": "stream",
     "text": [
      "You would have: 2030.91\n"
     ]
    }
   ],
   "source": [
    "stock_valu = round(num_stocks * curr_price,2)\n",
    "print('You would have:',stock_valu)"
   ]
  },
  {
   "cell_type": "code",
   "execution_count": 29,
   "id": "edc06c74",
   "metadata": {},
   "outputs": [
    {
     "name": "stdout",
     "output_type": "stream",
     "text": [
      "You would have gained:  1030.91\n"
     ]
    }
   ],
   "source": [
    "net  = round(x - inv_amt,2)\n",
    "if x < float(inv_amt):\n",
    "    print('You would have lost: ', net)\n",
    "else:\n",
    "   print('You would have gained: ', net)"
   ]
  }
 ],
 "metadata": {
  "kernelspec": {
   "display_name": "Python 3 (ipykernel)",
   "language": "python",
   "name": "python3"
  },
  "language_info": {
   "codemirror_mode": {
    "name": "ipython",
    "version": 3
   },
   "file_extension": ".py",
   "mimetype": "text/x-python",
   "name": "python",
   "nbconvert_exporter": "python",
   "pygments_lexer": "ipython3",
   "version": "3.8.0"
  }
 },
 "nbformat": 4,
 "nbformat_minor": 5
}
